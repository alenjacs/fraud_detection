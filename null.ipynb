{
 "cells": [
  {
   "cell_type": "code",
   "execution_count": null,
   "id": "ba62c974-c689-407e-a376-4fa96deccc31",
   "metadata": {},
   "outputs": [],
   "source": [
    "# Import core data handling and plotting libraries\n",
    "\n",
    "import pandas as pd\n",
    "import matplotlib.pyplot as plt\n",
    "from imblearn.over_sampling import SMOTE\n",
    "\n",
    "import seaborn as sns\n",
    "\n",
    "# Import tools for splitting data and balancing with SMOTE\n",
    "from sklearn.model_selection import train_test_split\n",
    "from imblearn.over_sampling import SMOTE\n",
    "\n"
   ]
  },
  {
   "cell_type": "code",
   "execution_count": null,
   "id": "2d04c39d-4359-4fd7-a40a-1a5910706665",
   "metadata": {},
   "outputs": [],
   "source": [
    "# Load the dataset from the CSV file into a pandas DataFrame\n",
    "\n",
    "df = pd.read_csv(\"creditcard.csv\")\n",
    "\n",
    "# Show the first 5 rows of the dataset to inspect structure and values\n",
    "\n",
    "df.head()\n"
   ]
  },
  {
   "cell_type": "code",
   "execution_count": null,
   "id": "8f4e52a4-7f3c-48ed-9b69-b54a139cf254",
   "metadata": {},
   "outputs": [],
   "source": [
    "# Print how many fraud (1) vs. non-fraud (0) transactions exist\n",
    "\n",
    "print(df['Class'].value_counts())\n",
    "\n",
    "# Plot a bar chart to visualize class imbalance in the dataset\n",
    "sns.countplot(x='Class', data=df)\n",
    "plt.title(\"Class Distribution\")\n",
    "plt.show()\n"
   ]
  },
  {
   "cell_type": "code",
   "execution_count": null,
   "id": "6fad88b2-2006-4603-b830-5a6eae88c4df",
   "metadata": {},
   "outputs": [],
   "source": [
    "# Separate features (X) and target labels (y)\n",
    "X = df.drop('Class', axis=1)  # All columns except 'Class'\n",
    "y = df['Class']               # Only the 'Class' column\n",
    "\n",
    "# Split the data into training and testing sets (80% train, 20% test)\n",
    "X_train, X_test, y_train, y_test = train_test_split(X, y, test_size=0.2, random_state=42)\n",
    "\n"
   ]
  },
  {
   "cell_type": "code",
   "execution_count": null,
   "id": "ad1c95de-85f1-4084-92b1-b22277319c2b",
   "metadata": {},
   "outputs": [],
   "source": [
    "# Initialize SMOTE to balance the minority class (fraud = 1)\n",
    "smote = SMOTE(random_state=42)\n",
    "\n",
    "# Apply SMOTE only on training data to prevent data leakage\n",
    "X_train_resampled, y_train_resampled = smote.fit_resample(X_train, y_train)\n",
    "\n",
    "# Print class counts before and after applying SMOTE\n",
    "print(\"Before SMOTE:\", y_train.value_counts())\n",
    "print(\"After SMOTE:\", pd.Series(y_train_resampled).value_counts())\n"
   ]
  },
  {
   "cell_type": "code",
   "execution_count": null,
   "id": "c01d36d1-8ea5-43c7-a628-f936f6308b50",
   "metadata": {},
   "outputs": [],
   "source": [
    "# Import the Random Forest model from scikit-learn\n",
    "from sklearn.ensemble import RandomForestClassifier\n",
    "\n",
    "# Create a Random Forest with 20 trees\n",
    "model = RandomForestClassifier(n_estimators=20, random_state=42)\n",
    "\n",
    "# Train the model on the balanced (SMOTE) training data\n",
    "model.fit(X_train_resampled, y_train_resampled)\n",
    "\n"
   ]
  },
  {
   "cell_type": "code",
   "execution_count": null,
   "id": "01fc6c22-570b-4738-bede-eb40f2539606",
   "metadata": {},
   "outputs": [],
   "source": [
    "# Import evaluation tools\n",
    "from sklearn.metrics import classification_report, confusion_matrix, ConfusionMatrixDisplay\n",
    "\n",
    "# Use the trained model to predict on the original test set\n",
    "y_pred = model.predict(X_test)\n",
    "\n",
    "# Print precision, recall, and F1-score for each class\n",
    "print(\"=== Classification Report ===\")\n",
    "print(classification_report(y_test, y_pred))\n",
    "\n",
    "# Generate and display the confusion matrix\n",
    "cm = confusion_matrix(y_test, y_pred)\n",
    "disp = ConfusionMatrixDisplay(confusion_matrix=cm, display_labels=model.classes_)\n",
    "disp.plot()\n",
    "plt.title(\"Confusion Matrix\")\n",
    "plt.show()\n",
    "\n",
    "\n"
   ]
  },
  {
   "cell_type": "code",
   "execution_count": null,
   "id": "94d76710-d240-4433-89c4-f2ef97ee2b9e",
   "metadata": {},
   "outputs": [],
   "source": [
    "# Plot feature importances to understand which columns affect predictions the most\n",
    "import numpy as np\n",
    "\n",
    "importances = model.feature_importances_\n",
    "indices = np.argsort(importances)[::-1]\n",
    "\n",
    "# Plot top 10 most important features\n",
    "plt.figure(figsize=(10, 6))\n",
    "plt.title(\"Top 10 Feature Importances\")\n",
    "plt.bar(range(10), importances[indices[:10]], align=\"center\")\n",
    "plt.xticks(range(10), X.columns[indices[:10]], rotation=45)\n",
    "plt.tight_layout()\n",
    "plt.show()\n"
   ]
  },
  {
   "cell_type": "code",
   "execution_count": null,
   "id": "45f41e58-2ddb-4849-a698-9f929b9ccaeb",
   "metadata": {},
   "outputs": [],
   "source": []
  },
  {
   "cell_type": "code",
   "execution_count": null,
   "id": "c7098c83-5117-46c8-8e4b-55ccaedd0ee8",
   "metadata": {},
   "outputs": [],
   "source": []
  }
 ],
 "metadata": {
  "kernelspec": {
   "display_name": "Python 3",
   "language": "python",
   "name": "python3"
  },
  "language_info": {
   "codemirror_mode": {
    "name": "ipython",
    "version": 3
   },
   "file_extension": ".py",
   "mimetype": "text/x-python",
   "name": "python",
   "nbconvert_exporter": "python",
   "pygments_lexer": "ipython3",
   "version": "3.13.5"
  }
 },
 "nbformat": 4,
 "nbformat_minor": 5
}
